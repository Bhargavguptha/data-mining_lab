{
  "nbformat": 4,
  "nbformat_minor": 0,
  "metadata": {
    "colab": {
      "provenance": [],
      "authorship_tag": "ABX9TyOhNrqeFnxXNUSdff7y5eki",
      "include_colab_link": true
    },
    "kernelspec": {
      "name": "python3",
      "display_name": "Python 3"
    },
    "language_info": {
      "name": "python"
    }
  },
  "cells": [
    {
      "cell_type": "markdown",
      "metadata": {
        "id": "view-in-github",
        "colab_type": "text"
      },
      "source": [
        "<a href=\"https://colab.research.google.com/github/Bhargavguptha/data-mining_lab/blob/main/Lab3.ipynb\" target=\"_parent\"><img src=\"https://colab.research.google.com/assets/colab-badge.svg\" alt=\"Open In Colab\"/></a>"
      ]
    },
    {
      "cell_type": "code",
      "execution_count": null,
      "metadata": {
        "id": "fNLKSvE5mDhP",
        "colab": {
          "base_uri": "https://localhost:8080/"
        },
        "outputId": "dba67a48-a0dc-43e3-d3ef-78bcaca69324"
      },
      "outputs": [
        {
          "output_type": "stream",
          "name": "stdout",
          "text": [
            "  Category  Label_Encoded\n",
            "0        A              0\n",
            "1        B              1\n",
            "2        A              0\n",
            "3        C              2\n",
            "4        B              1\n",
            "5        C              2\n"
          ]
        }
      ],
      "source": [
        "import pandas as pd\n",
        "from sklearn.preprocessing import LabelEncoder\n",
        "\n",
        "data = {'Category': ['A', 'B', 'A', 'C', 'B', 'C']}\n",
        "df = pd.DataFrame(data)\n",
        "\n",
        "label_encoder = LabelEncoder()\n",
        "df['Label_Encoded'] = label_encoder.fit_transform(df['Category'])\n",
        "print(df)\n"
      ]
    },
    {
      "cell_type": "code",
      "source": [
        "from datetime import datetime\n",
        "\n",
        "data = {'Name': ['Alice', 'Bob', 'Charlie'],\n",
        "        'DOB': ['2000-05-15', '1995-08-22', '1988-11-03']}\n",
        "df = pd.DataFrame(data)\n",
        "\n",
        "df['DOB'] = pd.to_datetime(df['DOB'])\n",
        "\n",
        "df['Age'] = df['DOB'].apply(lambda x: datetime.now().year - x.year)\n",
        "print(df)\n"
      ],
      "metadata": {
        "colab": {
          "base_uri": "https://localhost:8080/"
        },
        "id": "IlDMJIlsmO6U",
        "outputId": "3c17e3a6-b9f2-486e-8032-3eec20d799e0"
      },
      "execution_count": null,
      "outputs": [
        {
          "output_type": "stream",
          "name": "stdout",
          "text": [
            "      Name        DOB  Age\n",
            "0    Alice 2000-05-15   25\n",
            "1      Bob 1995-08-22   30\n",
            "2  Charlie 1988-11-03   37\n"
          ]
        }
      ]
    },
    {
      "cell_type": "code",
      "source": [
        "data = {'Category': ['A', 'B', 'A', 'C', 'B', 'C'],\n",
        "        'Value': [10, 15, 20, 25, 30, 35]}\n",
        "df = pd.DataFrame(data)\n",
        "\n",
        "grouped_df = df.groupby('Category').agg({'Value': 'sum'})\n",
        "print(grouped_df)\n"
      ],
      "metadata": {
        "colab": {
          "base_uri": "https://localhost:8080/"
        },
        "id": "-QBdSYj1nINY",
        "outputId": "068eff05-7abd-42b6-e5b0-d66cd77d603e"
      },
      "execution_count": null,
      "outputs": [
        {
          "output_type": "stream",
          "name": "stdout",
          "text": [
            "          Value\n",
            "Category       \n",
            "A            30\n",
            "B            45\n",
            "C            60\n"
          ]
        }
      ]
    },
    {
      "cell_type": "code",
      "source": [
        "pivot_df = df.pivot_table(index='Category', values='Value', aggfunc='sum')\n",
        "print(pivot_df)\n"
      ],
      "metadata": {
        "colab": {
          "base_uri": "https://localhost:8080/"
        },
        "id": "H9AEZi7gots1",
        "outputId": "bd7bc0d7-f0ee-440d-ba39-a682a6d53722"
      },
      "execution_count": null,
      "outputs": [
        {
          "output_type": "stream",
          "name": "stdout",
          "text": [
            "          Value\n",
            "Category       \n",
            "A            30\n",
            "B            45\n",
            "C            60\n"
          ]
        }
      ]
    }
  ]
}